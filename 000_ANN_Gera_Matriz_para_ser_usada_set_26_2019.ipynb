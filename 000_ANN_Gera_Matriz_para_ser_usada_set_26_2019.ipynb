{
  "nbformat": 4,
  "nbformat_minor": 0,
  "metadata": {
    "colab": {
      "name": "000-ANN_Gera_Matriz_para_ser_usada_set_26_2019.ipynb",
      "provenance": [],
      "collapsed_sections": [],
      "include_colab_link": true
    },
    "kernelspec": {
      "name": "python3",
      "display_name": "Python 3"
    }
  },
  "cells": [
    {
      "cell_type": "markdown",
      "metadata": {
        "id": "view-in-github",
        "colab_type": "text"
      },
      "source": [
        "<a href=\"https://colab.research.google.com/github/RaianaSeixas/ANN/blob/master/000_ANN_Gera_Matriz_para_ser_usada_set_26_2019.ipynb\" target=\"_parent\"><img src=\"https://colab.research.google.com/assets/colab-badge.svg\" alt=\"Open In Colab\"/></a>"
      ]
    },
    {
      "cell_type": "code",
      "metadata": {
        "id": "VNDZTKWUBOge",
        "colab_type": "code",
        "outputId": "d02e3724-1c19-4e09-8270-d79b3f069fcf",
        "colab": {
          "base_uri": "https://localhost:8080/",
          "height": 138
        }
      },
      "source": [
        "############################### Importar códigos\n",
        "\n",
        "!git clone https://github.com/ucfilho/optim_raianars/ #clonar do Github"
      ],
      "execution_count": 158,
      "outputs": [
        {
          "output_type": "stream",
          "text": [
            "Cloning into 'optim_raianars'...\n",
            "remote: Enumerating objects: 22, done.\u001b[K\n",
            "remote: Counting objects:   4% (1/22)\u001b[K\rremote: Counting objects:   9% (2/22)\u001b[K\rremote: Counting objects:  13% (3/22)\u001b[K\rremote: Counting objects:  18% (4/22)\u001b[K\rremote: Counting objects:  22% (5/22)\u001b[K\rremote: Counting objects:  27% (6/22)\u001b[K\rremote: Counting objects:  31% (7/22)\u001b[K\rremote: Counting objects:  36% (8/22)\u001b[K\rremote: Counting objects:  40% (9/22)\u001b[K\rremote: Counting objects:  45% (10/22)\u001b[K\rremote: Counting objects:  50% (11/22)\u001b[K\rremote: Counting objects:  54% (12/22)\u001b[K\rremote: Counting objects:  59% (13/22)\u001b[K\rremote: Counting objects:  63% (14/22)\u001b[K\rremote: Counting objects:  68% (15/22)\u001b[K\rremote: Counting objects:  72% (16/22)\u001b[K\rremote: Counting objects:  77% (17/22)\u001b[K\rremote: Counting objects:  81% (18/22)\u001b[K\rremote: Counting objects:  86% (19/22)\u001b[K\rremote: Counting objects:  90% (20/22)\u001b[K\rremote: Counting objects:  95% (21/22)\u001b[K\rremote: Counting objects: 100% (22/22)\u001b[K\rremote: Counting objects: 100% (22/22), done.\u001b[K\n",
            "remote: Compressing objects:   4% (1/22)\u001b[K\rremote: Compressing objects:   9% (2/22)\u001b[K\rremote: Compressing objects:  13% (3/22)\u001b[K\rremote: Compressing objects:  18% (4/22)\u001b[K\rremote: Compressing objects:  22% (5/22)\u001b[K\rremote: Compressing objects:  27% (6/22)\u001b[K\rremote: Compressing objects:  31% (7/22)\u001b[K\rremote: Compressing objects:  36% (8/22)\u001b[K\rremote: Compressing objects:  40% (9/22)\u001b[K\rremote: Compressing objects:  45% (10/22)\u001b[K\rremote: Compressing objects:  50% (11/22)\u001b[K\rremote: Compressing objects:  54% (12/22)\u001b[K\rremote: Compressing objects:  59% (13/22)\u001b[K\rremote: Compressing objects:  63% (14/22)\u001b[K\rremote: Compressing objects:  68% (15/22)\u001b[K\rremote: Compressing objects:  72% (16/22)\u001b[K\rremote: Compressing objects:  77% (17/22)\u001b[K\rremote: Compressing objects:  81% (18/22)\u001b[K\rremote: Compressing objects:  86% (19/22)\u001b[K\rremote: Compressing objects:  90% (20/22)\u001b[K\rremote: Compressing objects:  95% (21/22)\u001b[K\rremote: Compressing objects: 100% (22/22)\u001b[K\rremote: Compressing objects: 100% (22/22), done.\u001b[K\n",
            "Receiving objects:   0% (1/443)   \rReceiving objects:   1% (5/443)   \rReceiving objects:   2% (9/443)   \rReceiving objects:   3% (14/443)   \rReceiving objects:   4% (18/443)   \rReceiving objects:   5% (23/443)   \rReceiving objects:   6% (27/443)   \rReceiving objects:   7% (32/443)   \rReceiving objects:   8% (36/443)   \rReceiving objects:   9% (40/443)   \rReceiving objects:  10% (45/443)   \rReceiving objects:  11% (49/443)   \rReceiving objects:  12% (54/443)   \rReceiving objects:  13% (58/443)   \rReceiving objects:  14% (63/443)   \rReceiving objects:  15% (67/443)   \rReceiving objects:  16% (71/443)   \rReceiving objects:  17% (76/443)   \rReceiving objects:  18% (80/443)   \rReceiving objects:  19% (85/443)   \rReceiving objects:  20% (89/443)   \rReceiving objects:  21% (94/443)   \rReceiving objects:  22% (98/443)   \rReceiving objects:  23% (102/443)   \rReceiving objects:  24% (107/443)   \rReceiving objects:  25% (111/443)   \rReceiving objects:  26% (116/443)   \rReceiving objects:  27% (120/443)   \rReceiving objects:  28% (125/443)   \rReceiving objects:  29% (129/443)   \rReceiving objects:  30% (133/443)   \rReceiving objects:  31% (138/443)   \rReceiving objects:  32% (142/443)   \rReceiving objects:  33% (147/443)   \rReceiving objects:  34% (151/443)   \rReceiving objects:  35% (156/443)   \rReceiving objects:  36% (160/443)   \rReceiving objects:  37% (164/443)   \rReceiving objects:  38% (169/443)   \rReceiving objects:  39% (173/443)   \rReceiving objects:  40% (178/443)   \rReceiving objects:  41% (182/443)   \rReceiving objects:  42% (187/443)   \rReceiving objects:  43% (191/443)   \rReceiving objects:  44% (195/443)   \rReceiving objects:  45% (200/443)   \rReceiving objects:  46% (204/443)   \rReceiving objects:  47% (209/443)   \rReceiving objects:  48% (213/443)   \rReceiving objects:  49% (218/443)   \rReceiving objects:  50% (222/443)   \rReceiving objects:  51% (226/443)   \rReceiving objects:  52% (231/443)   \rReceiving objects:  53% (235/443)   \rReceiving objects:  54% (240/443)   \rReceiving objects:  55% (244/443)   \rReceiving objects:  56% (249/443)   \rReceiving objects:  57% (253/443)   \rReceiving objects:  58% (257/443)   \rReceiving objects:  59% (262/443)   \rReceiving objects:  60% (266/443)   \rReceiving objects:  61% (271/443)   \rReceiving objects:  62% (275/443)   \rReceiving objects:  63% (280/443)   \rReceiving objects:  64% (284/443)   \rReceiving objects:  65% (288/443)   \rReceiving objects:  66% (293/443)   \rReceiving objects:  67% (297/443)   \rReceiving objects:  68% (302/443)   \rReceiving objects:  69% (306/443)   \rReceiving objects:  70% (311/443)   \rReceiving objects:  71% (315/443)   \rReceiving objects:  72% (319/443)   \rReceiving objects:  73% (324/443)   \rReceiving objects:  74% (328/443)   \rReceiving objects:  75% (333/443)   \rReceiving objects:  76% (337/443)   \rReceiving objects:  77% (342/443)   \rReceiving objects:  78% (346/443)   \rReceiving objects:  79% (350/443)   \rReceiving objects:  80% (355/443)   \rReceiving objects:  81% (359/443)   \rReceiving objects:  82% (364/443)   \rReceiving objects:  83% (368/443)   \rReceiving objects:  84% (373/443)   \rReceiving objects:  85% (377/443)   \rReceiving objects:  86% (381/443)   \rReceiving objects:  87% (386/443)   \rReceiving objects:  88% (390/443)   \rReceiving objects:  89% (395/443)   \rReceiving objects:  90% (399/443)   \rReceiving objects:  91% (404/443)   \rReceiving objects:  92% (408/443)   \rReceiving objects:  93% (412/443)   \rReceiving objects:  94% (417/443)   \rReceiving objects:  95% (421/443)   \rReceiving objects:  96% (426/443)   \rReceiving objects:  97% (430/443)   \rReceiving objects:  98% (435/443)   \rremote: Total 443 (delta 10), reused 0 (delta 0), pack-reused 421\u001b[K\n",
            "Receiving objects:  99% (439/443)   \rReceiving objects: 100% (443/443)   \rReceiving objects: 100% (443/443), 486.78 KiB | 7.16 MiB/s, done.\n",
            "Resolving deltas:   0% (0/242)   \rResolving deltas:   1% (3/242)   \rResolving deltas:  30% (74/242)   \rResolving deltas:  45% (110/242)   \rResolving deltas:  49% (120/242)   \rResolving deltas:  51% (124/242)   \rResolving deltas:  52% (126/242)   \rResolving deltas:  53% (129/242)   \rResolving deltas:  54% (132/242)   \rResolving deltas:  57% (138/242)   \rResolving deltas:  59% (144/242)   \rResolving deltas:  61% (149/242)   \rResolving deltas:  63% (153/242)   \rResolving deltas:  71% (174/242)   \rResolving deltas:  76% (186/242)   \rResolving deltas:  80% (195/242)   \rResolving deltas:  87% (211/242)   \rResolving deltas:  88% (214/242)   \rResolving deltas:  91% (222/242)   \rResolving deltas:  92% (223/242)   \rResolving deltas:  94% (229/242)   \rResolving deltas:  96% (233/242)   \rResolving deltas: 100% (242/242)   \rResolving deltas: 100% (242/242), done.\n"
          ],
          "name": "stdout"
        }
      ]
    },
    {
      "cell_type": "code",
      "metadata": {
        "id": "btZL0H3XBPx-",
        "colab_type": "code",
        "outputId": "c8000613-b93b-47a8-ae7e-8fa644385434",
        "colab": {
          "base_uri": "https://localhost:8080/",
          "height": 54
        }
      },
      "source": [
        "%cd optim_raianars\n",
        "#!ls"
      ],
      "execution_count": 159,
      "outputs": [
        {
          "output_type": "stream",
          "text": [
            "/content/optim_raianars/optim_raianars/optim_raianars/optim_raianars/optim_raianars/optim_raianars/optim_raianars/optim_raianars/optim_raianars/optim_raianars/optim_raianars\n"
          ],
          "name": "stdout"
        }
      ]
    },
    {
      "cell_type": "code",
      "metadata": {
        "id": "Cpua4Oip40ix",
        "colab_type": "code",
        "colab": {}
      },
      "source": [
        "############################### Importar bibliotecas e iniciar a contagem do tempo\n",
        "import pandas as pd\n",
        "import time\n",
        "import matplotlib.pyplot as plt\n",
        "import numpy as np\n",
        "from random import randint\n",
        "from scipy import optimize\n",
        "############################### Importar códigos\n",
        "'''\n",
        "!git clone https://github.com/RaianaSeixas/GERENCIADOR.git #clonar do Github\n",
        "\n",
        "# %cd\n",
        "# %cd /content/GERENCIADOR\n",
        "!ls\n",
        "'''\n",
        "############################### DADOS DE ENTRADA \n",
        "RUNS=100 #NÚMERO DE RODADAS\n",
        "mut=0.5\n",
        "crossp=0.5\n",
        "############################### Função\n",
        "import Function\n",
        "\n",
        "'''\n",
        "Fun=Function.Rosenbrock\n",
        "dim=10\n",
        "MAX=np.repeat(10,dim)\n",
        "MIN=np.repeat(-10,dim)\n",
        "#MAX=[30,30] # MAXIMO DE CADA PARAMETRO\n",
        "#MIN=[-30,-30] # MINIMO DE CADA PARAMETRO\n",
        "  #Global optimum: f(xi)= 0\n",
        "'''\n",
        "'''\n",
        "dim=10\n",
        "Fun=Function.Sphere\n",
        "MAX=np.repeat(5.12,dim)\n",
        "MIN=np.repeat(-5.12,dim)\n",
        "  # f(x)=0 x=(0,0) [-5.12,5.12]\n",
        "'''\n",
        "'''\n",
        "dim=10\n",
        "Fun=Function.Schwefel\n",
        "MAX=np.repeat(500,dim)\n",
        "MIN=np.repeat(-500,dim)\n",
        "  #Global optimum: f(xi)= 0 for xi = 420.968746 for i=1,...,n  ;  xi in [-500,500]  \n",
        "'''\n",
        "'''\n",
        "dim=10\n",
        "Fun=Function.Rastrigin\n",
        "MAX=np.repeat(5.12,dim)\n",
        "MIN=np.repeat(-5.12,dim)\n",
        "  # f(x)=0 x=(0,0) [-5.12,5.12]\n",
        "'''\n",
        "'''\n",
        "dim=10\n",
        "Fun=Function.Sum_of_different_powers\n",
        "MAX=np.repeat(1,dim)\n",
        "MIN=np.repeat(-1,dim)\n",
        "  # f(x)=0 x=(0,0)\n",
        "'''\n",
        "'''  \n",
        "dim=10\n",
        "Fun=Function.Ackley\n",
        "MAX=np.repeat(32,dim)\n",
        "MIN=np.repeat(-32,dim)\n",
        " # f(x)=0 x=(0,0) [-32, 32]\n",
        "'''\n",
        "#'''  \n",
        "dim=10\n",
        "Fun=Function.Michalewicz\n",
        "MAX=np.repeat(np.pi,dim)\n",
        "MIN=np.repeat(0,dim)\n",
        " #fx=-9.66015 p/ d=10 [0,pi]\n",
        "#'''\n",
        "\n",
        "PAR=len(MAX) #NUM DE PARAMETROS A SER OTIMIZADOS\n",
        "\n",
        "##################################### IMPORTAR MÓDULOS\n",
        "\n",
        "import de_indices_ago_30_2019\n",
        "\n",
        "dimensions=len(MAX)\n",
        "\n",
        "start_time = time.time() #INICIALIZA CONTAGEM DO TEMPO\n",
        "its=10 # quantas vezes vai usar o NPAR antes de alterar de novo\n",
        "ITE=10 # PONTOS quantas vezes vai alteral NPAR\n",
        "\n",
        "TOTAL=10*dim*its*ITE\n",
        "SOMA=0\n",
        "\n",
        "PARTIC=np.zeros(ITE)\n"
      ],
      "execution_count": 0,
      "outputs": []
    },
    {
      "cell_type": "code",
      "metadata": {
        "id": "KQVX1hnp_W0M",
        "colab_type": "code",
        "outputId": "d6ae3796-d735-4319-b770-a613b81d21ae",
        "colab": {
          "base_uri": "https://localhost:8080/",
          "height": 52
        }
      },
      "source": [
        "#ROSEN 10\n",
        "PARTIC=[100, 100, 100, 100, 100, 100, 100, 100, 100, 100, 0.9728559489149894, 0.27766790383007334, 0.17398088489695707, 0.6771446434720714, 0.05976164627333025, 0.9493674233519773, 0.4066323765548394, 0.7564129399166972, 0.5538868993361746, 0.7983858770220864, 0.7605376658591183, 0.2603655315839813, 0.4531689015215797, 0.9475358043759368, 0.1553272475376351, 0.9332548172792217, 0.0012380755807975263, 0.9126578272274021, 0.42291352365008883, 0.9302903625038406] \n",
        "  \n",
        "#SPHERE 10\n",
        "PARTIC=[100, 100, 100, 100, 100, 100, 100, 100, 100, 100, 0.30535963695252183, 0.15445753878433297, 0.3302666898423128, 0.2615620994804523, 0.3010879767868227, 0.4500797643195917, 0.3205997878963483, 0.35923710998077424, 0.2591681181313378, 0.2950970189757653, 0.12093915561185223, 0.4340053769475705, 0.22807066986093702, 0.23051513191637243, 0.47674649564481003, 0.3005031164728735, 0.4962288578295192, 0.3055030327197165, 0.14925865316288506, 0.3581612417549679] \n",
        "\n",
        "#Schwefel 10 \n",
        "PARTIC=[100, 100, 100, 100, 100, 100, 100, 100, 100, 100, 0.9471971910987741, 0.6670592165205713, 0.7937507496384594, 0.6177081837954878, 0.7283182103517296, 0.6715978158433188, 0.6242856792267697, 0.9896255993278233, 0.5406370220766126, 0.7752957572826753, 0.35998673096834527, 0.05432488091850518, 0.23581756260592346, 0.3755776722336761, 0.47186316398609274, 0.332030725206283, 0.03867842579938102, 0.36459758047278623, 0.3004029062634635, 0.07298829608869245] \n",
        "\n",
        "#RASTRIGIN 10\n",
        "PARTIC=[100, 100, 100, 100, 100, 100, 100, 100, 100, 100, 0.5294720250652235, 0.9331882441217898, 0.8756545585672859, 0.7802422778187171, 0.7662762060859616, 0.959341417008926, 0.7080191715610009, 0.6588620887968093, 0.6949343335258761, 0.9867988556819446, 0.32870036344186015, 0.4531862205813965, 0.15274738420922215, 0.08548241403591583, 0.4996953000747468, 0.3675216528447304, 0.17973075210706888, 0.08500085066512997, 0.1743304933768251, 0.29513929590273913] \n",
        "\n",
        "#Sum_of_different_powers 10\n",
        "PARTIC=[100, 100, 100, 100, 100, 100, 100, 100, 100, 100, 0.31782389097027747, 0.19065693713402454, 0.47387389963347626, 0.2714107286653299, 0.4055136462738512, 0.4814722687726932, 0.45763163644106325, 0.1414405452068318, 0.026423313465472692, 0.2566956839878713, 0.05972714916744126, 0.24460527481566494, 0.16598203653958032, 0.2562632381632141, 0.04993907764049188, 0.46076429129379093, 0.2177123834858552, 0.27348650851701906, 0.19590657773674183, 0.4383158800942741] \n",
        "\n",
        "#Ackley 10\n",
        "PARTIC=[100, 100, 100, 100, 100, 100, 100, 100, 100, 100, 0.8138485574264878, 0.6467629502210859, 0.18382885041984925, 0.3209318524902809, 0.2881070693852524, 0.7419372303296256, 0.008619902862623374, 0.26097485533416626, 0.2352537082359331, 0.7254096168410427, 0.7302556021482179, 0.4174731397578705, 0.4513237713347011, 0.972018116086636, 0.40776443312363314, 0.20040199893609845, 0.6950693929309334, 0.8074987372254666, 0.777603078546942, 0.33691384502400823] \n",
        "\n",
        "#Michalewicz 10\n",
        "PARTIC=[100, 100, 100, 100, 100, 100, 100, 100, 100, 100, 0.32988737814983615, 0.121089809784371, 0.5188675529389872, 0.08034443211736825, 0.7881161480757378, 0.8591392831225996, 0.5362839488048298, 0.44487492192624023, 0.7631366396408227, 0.8985443840333653, 0.16934123019134661, 0.4937303188863658, 0.04499488003579816, 0.19812465240607674, 0.9081844136915745, 0.24300028985497946, 0.8044502667843741, 0.6519373873472506, 0.6730506252289374, 0.2837560905751306] \n",
        "\n",
        "\n",
        "Fi=PARTIC[10:20]\n",
        "CRi=PARTIC[20:30]\n",
        "PARTIC=PARTIC[0:10]\n",
        "\n",
        "P=np.array(PARTIC)\n",
        "s=P*its\n",
        "SOMA_PARTIC=s.sum()\n",
        "\n",
        "NMAX=P.max() # maximo tamanho da populacao\n",
        "\n",
        "'''DAT=pd.read_csv('RAIANA_TESTE_TRANSFERE_SET_04_2019.csv')\n",
        "Fi=np.array(DAT['F'])\n",
        "CRi=np.array(DAT['CR'])'''\n",
        "\n",
        "QUANT=15 # quantos indices esta fazendo\n",
        "MAT_IND=np.zeros((len(PARTIC),QUANT))\n",
        "MAT_INDi=np.zeros((len(PARTIC),QUANT))\n",
        "SOLUCOES=np.zeros((len(PARTIC),dimensions))\n",
        "SOLUCOESi=np.zeros((len(PARTIC),dimensions))\n",
        "\n",
        "REF=0.1 # REFERENCIA DE DIFERENCAS ENTRE OS ELEMENTOS\n",
        "\n",
        "'''for k in range(ITE):\n",
        "    NPAR=np.copy(int(PARTIC[k]))\n",
        "    \n",
        "    X,BEST,FOBEST,XY,BEST_XY,SOMA,INDICE= de_indices_ago_30_2019.de(MAX,MIN, mut, crossp, NPAR, its,Fun,X,SOMA,TOTAL,QUANT) \n",
        "    MAT_INDi[k,:]=INDICE\n",
        "    SOLUCOESi[k,:]=BEST\n",
        "    MAT_INDi[k,2]=SOMA/TOTAL\n",
        "    MAT_INDi[k,1]=INDICE[0]/DI_ini\n",
        "    MAT_INDi[k,3]=FOBEST'''\n",
        "\n",
        "FOBESTm=1e99\n",
        "  \n",
        "for j in range (RUNS):\n",
        "  \n",
        "    SOMA=0\n",
        "    \n",
        "    pop = np.random.rand(NMAX, dimensions)\n",
        "    diff=np.zeros(PAR)\n",
        "    for ii in range(PAR):\n",
        "      diff[ii] = MAX[ii]-MIN[ii]\n",
        "    X = MIN + pop * diff\n",
        "    \n",
        "    soma=0\n",
        "    for j in range(PAR):\n",
        "      for i in range(PARTIC[0]):\n",
        "        Xj=np.mean(X[:,j])\n",
        "        soma=soma+(X[i,j]-Xj)**2\n",
        "      DI_ini=(soma/PARTIC[0])**0.5\n",
        "      \n",
        "    for k in range(ITE):\n",
        "        NPAR=np.copy(int(PARTIC[k]))\n",
        "        mut=np.copy(Fi[k])\n",
        "        crossp=np.copy(CRi[k])\n",
        "        \n",
        "        X,BEST,FOBEST,XY,BEST_XY,SOMA,INDICE= de_indices_ago_30_2019.de(MAX,MIN, mut, crossp, NPAR, its,Fun,X,SOMA,TOTAL,QUANT)\n",
        "        Lin=len(XY[:,0])\n",
        "        Col=len(XY[0,:])\n",
        " \n",
        "                \n",
        "        MAT_IND[k,:]=INDICE\n",
        "        SOLUCOES[k,:]=BEST\n",
        "        MAT_IND[k,2]=SOMA/TOTAL\n",
        "        MAT_IND[k,1]=INDICE[0]/DI_ini\n",
        "        MAT_IND[k,3]=FOBEST\n",
        "        MAT_IND[k,3]=FOBEST\n",
        "        MAT_IND[k,8]=XY[0,(Col-1)]\n",
        "        MAT_IND[k,9]=XY[(Lin-1),(Col-1)]\n",
        "\n",
        "        #print(\"============\",XY[(Lin-1),(Col-1)],\"====================\")\n",
        "    \n",
        "    if FOBEST<FOBESTm:\n",
        "      FOBESTm=np.copy(FOBEST)\n",
        "      BESTm=np.copy(BEST)\n",
        "      \n",
        "      MAT_IND[k,:]=INDICE\n",
        "      SOLUCOES[k,:]=BEST\n",
        "      MAT_IND[k,2]=SOMA/TOTAL\n",
        "      MAT_IND[k,1]=INDICE[0]/DI_ini\n",
        "      MAT_IND[k,3]=FOBEST\n",
        "\n",
        "        \n",
        "\n",
        "    #print(\"Soma=\",SOMA)\n",
        "    #print(\"GlobalParam e Solucao:\", BEST,\"Funcao=\",FOBEST)\n",
        "AUX=[]    \n",
        "AUX= np.copy(MAT_IND)   \n",
        "for i in range(1,len(PARTIC)):\n",
        "  V1=AUX[i-1,3]\n",
        "  V2=AUX[i,3]\n",
        "  A=2*V2\n",
        "  #print(V1,V2,A)\n",
        "  if(V1 > A):\n",
        "    MAT_IND[i,3]=2 # o valor de fobj torna pelo menos duas vezes melhor\n",
        "  elif (V2==V1):\n",
        "    MAT_IND[i,3]=0 # o valor de fobj nao altera\n",
        "  else:\n",
        "    MAT_IND[i,3]=1 # o valor de fobj melhora mas menos que duas vezes\n",
        "  MAT_IND[k,8]=XY[0,(Col-1)]\n",
        "  MAT_IND[k,9]=XY[(Lin-1),(Col-1)]\n",
        "\n",
        "  dimensions\n",
        "  DELTA=[]\n",
        "  DELTA=np.amax(abs(SOLUCOES[i-1,:]-SOLUCOES[i,:]))\n",
        "  #print(SOLUCOES[i-1,:])\n",
        "  #print(SOLUCOES[i,:])\n",
        "  #print(DELTA)\n",
        "  if( DELTA >REF):\n",
        "    MAT_IND[i,4]=2 # diferenca entre as posicoes do xbest maior que ref\n",
        "  elif ( DELTA == 0):\n",
        "    MAT_IND[i,4]=0 # sem diferenca entre as posicoes do xbest entre duas buscas\n",
        "  else:\n",
        "    MAT_IND[i,4]=1 # diferenca entre as posicoes do xbest menor que ref\n",
        "\n",
        "#print(MAT_IND)\n",
        "\n",
        "for i in range(len(PARTIC)):\n",
        "    MAT_IND[i,5]=int(PARTIC[i]) \n",
        "    MAT_IND[i,6]=Fi[i]\n",
        "    MAT_IND[i,7]=CRi[i] \n",
        "\n",
        "MAT_IND[0,3]=0 \n",
        "  \n",
        "NOMES=['DIVERSIDADE (DI)',  'DI RELATIVO','FRAC Its','VELOC FOBJ','VELOC X',\n",
        "       'NP','F','CR','fmin','fmax','AD_fmin','AD_fmax']\n",
        "INPUT=len(NOMES) # QUANTOS VALORES DE ENTRADA PARA REDE     \n",
        "IND=range(INPUT)\n",
        "print(\"GlobalParam e Solucao:\", BEST,\"Funcao=\",FOBESTm)\n",
        "\n",
        "for k in range(len(PARTIC)):\n",
        "  MAT_IND[k,10]=MAT_IND[k,8]/MAT_IND[0,8]\n",
        "  MAT_IND[k,11]=MAT_IND[k,9]/MAT_IND[0,9]\n",
        "\n",
        "df = pd.DataFrame(MAT_IND[:,IND], columns=NOMES)\n",
        "pd.set_option('display.max_rows', INPUT)\n",
        "#pd.set_option('display.max_colwidth', -1)\n",
        "#print(MAT_IND[:,IND])\n",
        "\n",
        "\n",
        "pd.set_option('display.max_columns', 30)\n",
        "pd.set_option('display.max_rows', 30)\n",
        "#print(df)\n",
        "#print(SOLUCOES)"
      ],
      "execution_count": 161,
      "outputs": [
        {
          "output_type": "stream",
          "text": [
            "GlobalParam e Solucao: [1.75566707 2.16512083 1.54020056 1.2803817  1.11160667 1.71671049\n",
            " 1.56884563 1.47388917 1.34316226 1.95078688] Funcao= -8.333132313686573\n"
          ],
          "name": "stdout"
        }
      ]
    },
    {
      "cell_type": "code",
      "metadata": {
        "id": "jc9u89d9X0rL",
        "colab_type": "code",
        "colab": {}
      },
      "source": [
        "NOMES_new=['DIVERSIDADE (DI)',  'DI RELATIVO','FRAC Its',\n",
        "           'VELOC FOBJ','VELOC X','NP','Fo','CRo','fmin','fmax',\n",
        "           'AD_fmin','AD_fmax','F','CR']"
      ],
      "execution_count": 0,
      "outputs": []
    },
    {
      "cell_type": "code",
      "metadata": {
        "id": "wkVidcPCOJ7T",
        "colab_type": "code",
        "colab": {}
      },
      "source": [
        "rows=len(PARTIC)-1\n",
        "cols=len(NOMES_new)\n",
        "MAT_IND_NEW=np.zeros((rows,cols))\n",
        "for k in range(rows):\n",
        "  MAT_IND_NEW[k,range(len(NOMES))]=MAT_IND[k+1,range(len(NOMES))]\n",
        "  MAT_IND_NEW[k,6]=MAT_IND[k,6]\n",
        "  MAT_IND_NEW[k,7]=MAT_IND[k,7]\n",
        "  MAT_IND_NEW[k,12]=MAT_IND[k+1,6]\n",
        "  MAT_IND_NEW[k,13]=MAT_IND[k+1,7]\n",
        "\n"
      ],
      "execution_count": 0,
      "outputs": []
    },
    {
      "cell_type": "code",
      "metadata": {
        "id": "hr6KRnUjKnI2",
        "colab_type": "code",
        "outputId": "9d0e87dc-d1b7-4042-a04c-7e30aa7ef0d4",
        "colab": {
          "base_uri": "https://localhost:8080/",
          "height": 606
        }
      },
      "source": [
        "\n",
        "IND=len(NOMES_new)\n",
        "#print(IND)\n",
        "df_new = pd.DataFrame(MAT_IND_NEW, columns=NOMES_new)\n",
        "\n",
        "algoritmo='DE-DE'\n",
        "bounds=str(MIN[0])+' ate '+str(MAX[0])\n",
        "funcao=[Fun.__name__,dim,FOBESTm,bounds,BESTm,SOMA_PARTIC,TOTAL,algoritmo]\n",
        "df_new['FUNCTION']=pd.Series(funcao)\n",
        "\n",
        "#pd.set_option('display.max_rows', IND)\n",
        "pd.set_option('display.max_columns', 30)\n",
        "pd.set_option('display.max_rows', 30)\n",
        "\n",
        "print(\"GlobalParam e Solucao:\", BEST,\"Funcao=\",FOBESTm)\n",
        "print(df_new)"
      ],
      "execution_count": 164,
      "outputs": [
        {
          "output_type": "stream",
          "text": [
            "GlobalParam e Solucao: [1.75566707 2.16512083 1.54020056 1.2803817  1.11160667 1.71671049\n",
            " 1.56884563 1.47388917 1.34316226 1.95078688] Funcao= -8.333132313686573\n",
            "   DIVERSIDADE (DI)  DI RELATIVO  FRAC Its  VELOC FOBJ  VELOC X     NP  \\\n",
            "0          2.163342     0.752194       0.2         2.0      2.0  100.0   \n",
            "1          2.006071     0.697511       0.3         2.0      2.0  100.0   \n",
            "2          1.742395     0.605831       0.4         2.0      2.0  100.0   \n",
            "3          1.735020     0.603267       0.5         2.0      0.0  100.0   \n",
            "4          1.724040     0.599449       0.6         2.0      2.0  100.0   \n",
            "5          1.725058     0.599803       0.7         2.0      0.0  100.0   \n",
            "6          1.625384     0.565146       0.8         2.0      2.0  100.0   \n",
            "7          1.602736     0.557271       0.9         2.0      2.0  100.0   \n",
            "8          1.576108     0.548013       1.0         2.0      2.0  100.0   \n",
            "\n",
            "         Fo       CRo      fmin      fmax   AD_fmin    AD_fmax         F  \\\n",
            "0  0.329887  0.169341 -5.990894 -2.500927  1.327152   8.598099  0.121090   \n",
            "1  0.121090  0.493730 -6.502965 -2.561779  1.440590   8.807308  0.518868   \n",
            "2  0.518868  0.044995 -7.085483 -4.207616  1.569634  14.465635  0.080344   \n",
            "3  0.080344  0.198125 -7.085483 -4.210734  1.569634  14.476357  0.788116   \n",
            "4  0.788116  0.908184 -7.496223 -4.901518  1.660625  16.851246  0.859139   \n",
            "5  0.859139  0.243000 -7.496223 -5.127185  1.660625  17.627083  0.536284   \n",
            "6  0.536284  0.804450 -7.534584 -5.347987  1.669123  18.386190  0.444875   \n",
            "7  0.444875  0.651937 -7.537524 -5.530331  1.669774  19.013083  0.763137   \n",
            "8  0.763137  0.673051 -8.121899 -5.771148  1.799230  19.841003  0.898544   \n",
            "\n",
            "         CR                                           FUNCTION  \n",
            "0  0.493730                                        Michalewicz  \n",
            "1  0.044995                                                 10  \n",
            "2  0.198125                                 -8.333132313686573  \n",
            "3  0.908184                            0 ate 3.141592653589793  \n",
            "4  0.243000  [0.3697971483840393, 2.190258472640612, 1.5993...  \n",
            "5  0.804450                                              10000  \n",
            "6  0.651937                                              10000  \n",
            "7  0.673051                                              DE-DE  \n",
            "8  0.283756                                                NaN  \n"
          ],
          "name": "stdout"
        }
      ]
    },
    {
      "cell_type": "code",
      "metadata": {
        "id": "bI_8YXugR5w-",
        "colab_type": "code",
        "outputId": "09ab80ef-f6af-43fb-a744-f386ca182ad5",
        "colab": {
          "base_uri": "https://localhost:8080/",
          "height": 34
        }
      },
      "source": [
        "'''print(df_new)\n",
        "print(df)'''"
      ],
      "execution_count": 165,
      "outputs": [
        {
          "output_type": "execute_result",
          "data": {
            "text/plain": [
              "'print(df_new)\\nprint(df)'"
            ]
          },
          "metadata": {
            "tags": []
          },
          "execution_count": 165
        }
      ]
    },
    {
      "cell_type": "code",
      "metadata": {
        "id": "VQ1DxcUIFPfD",
        "colab_type": "code",
        "outputId": "eb5fafd5-297b-4cb9-d8c6-33c59d78e9ec",
        "colab": {
          "base_uri": "https://localhost:8080/",
          "height": 52
        }
      },
      "source": [
        "print('FOBEST=',FOBEST)\n",
        "print('FOBESTm=',FOBESTm)"
      ],
      "execution_count": 166,
      "outputs": [
        {
          "output_type": "stream",
          "text": [
            "FOBEST= -8.121898814840456\n",
            "FOBESTm= -8.333132313686573\n"
          ],
          "name": "stdout"
        }
      ]
    },
    {
      "cell_type": "code",
      "metadata": {
        "id": "F8Vb3GJTEIh3",
        "colab_type": "code",
        "colab": {}
      },
      "source": [
        ""
      ],
      "execution_count": 0,
      "outputs": []
    },
    {
      "cell_type": "code",
      "metadata": {
        "id": "RHOKjpqjqGC2",
        "colab_type": "code",
        "colab": {}
      },
      "source": [
        "#print(df.iloc[0])"
      ],
      "execution_count": 0,
      "outputs": []
    },
    {
      "cell_type": "code",
      "metadata": {
        "id": "jpoOt04bCNOe",
        "colab_type": "code",
        "colab": {}
      },
      "source": [
        "#print(df_new.iloc[0])"
      ],
      "execution_count": 0,
      "outputs": []
    },
    {
      "cell_type": "code",
      "metadata": {
        "id": "ETXqp7Lv1TK5",
        "colab_type": "code",
        "outputId": "33be3d74-f9b5-4bde-a0da-a750b712e22a",
        "colab": {
          "base_uri": "https://localhost:8080/",
          "height": 34
        }
      },
      "source": [
        "'''#print(DAT)\n",
        "Fi_teste=DAT['F']\n",
        "CRi_teste=np.array(DAT['CR'])\n",
        "print(CRi)\n",
        "print(CRi_teste)'''"
      ],
      "execution_count": 169,
      "outputs": [
        {
          "output_type": "execute_result",
          "data": {
            "text/plain": [
              "\"#print(DAT)\\nFi_teste=DAT['F']\\nCRi_teste=np.array(DAT['CR'])\\nprint(CRi)\\nprint(CRi_teste)\""
            ]
          },
          "metadata": {
            "tags": []
          },
          "execution_count": 169
        }
      ]
    },
    {
      "cell_type": "code",
      "metadata": {
        "id": "nZ_ILp71l1lS",
        "colab_type": "code",
        "outputId": "0c2457c6-3054-4121-d222-4919e19465e8",
        "colab": {
          "base_uri": "https://localhost:8080/",
          "height": 52
        }
      },
      "source": [
        "print(SOMA)\n",
        "print(TOTAL)"
      ],
      "execution_count": 170,
      "outputs": [
        {
          "output_type": "stream",
          "text": [
            "10000\n",
            "10000\n"
          ],
          "name": "stdout"
        }
      ]
    },
    {
      "cell_type": "code",
      "metadata": {
        "id": "kXFU8468KfSy",
        "colab_type": "code",
        "outputId": "4ba8704b-6ade-4992-eeae-16371f820127",
        "colab": {
          "base_uri": "https://localhost:8080/",
          "height": 34
        }
      },
      "source": [
        "s=P*its\n",
        "somaa=s.sum()\n",
        "print('SOMA PARTIC=',somaa)"
      ],
      "execution_count": 171,
      "outputs": [
        {
          "output_type": "stream",
          "text": [
            "SOMA PARTIC= 10000\n"
          ],
          "name": "stdout"
        }
      ]
    },
    {
      "cell_type": "code",
      "metadata": {
        "id": "xsedhvw6w-FX",
        "colab_type": "code",
        "outputId": "2aac3ada-78a6-4b58-edf6-88358f09e3ee",
        "colab": {
          "base_uri": "https://localhost:8080/",
          "height": 34
        }
      },
      "source": [
        "#'''\n",
        "from google.colab import drive\n",
        "drive.mount('drive')\n",
        "#'''"
      ],
      "execution_count": 172,
      "outputs": [
        {
          "output_type": "stream",
          "text": [
            "Mounted at drive\n"
          ],
          "name": "stdout"
        }
      ]
    },
    {
      "cell_type": "code",
      "metadata": {
        "id": "gruAmcZKL20c",
        "colab_type": "code",
        "colab": {}
      },
      "source": [
        "from datetime import datetime\n",
        "nowfname=datetime.now().strftime(\"%Y-%m-%d_%Hh%Mmin\")"
      ],
      "execution_count": 0,
      "outputs": []
    },
    {
      "cell_type": "code",
      "metadata": {
        "id": "ZauofQo2tEr_",
        "colab_type": "code",
        "outputId": "0b858e4c-9a16-4712-c065-a7fd567ac6f5",
        "colab": {
          "base_uri": "https://localhost:8080/",
          "height": 34
        }
      },
      "source": [
        "function=Fun.__name__\n",
        "nome=nowfname+'_DE_'+function+'_'+str(dim)+'.csv'\n",
        "print(nome)"
      ],
      "execution_count": 174,
      "outputs": [
        {
          "output_type": "stream",
          "text": [
            "2019-10-01_18h31min_DE_Michalewicz_10.csv\n"
          ],
          "name": "stdout"
        }
      ]
    },
    {
      "cell_type": "code",
      "metadata": {
        "id": "Q-O9Ld0Xw_hg",
        "colab_type": "code",
        "colab": {}
      },
      "source": [
        "df_new.to_csv(nome)\n",
        "\n",
        "!cp 2019-10-01_18h31min_DE_Michalewicz_10.csv drive/My\\ Drive/imput_ANN/\n",
        "#!cp 2019-09-30_16h33min_DE_Rosenbrock_10.csv drive/My\\ Drive/\n"
      ],
      "execution_count": 0,
      "outputs": []
    }
  ]
}