{
  "nbformat": 4,
  "nbformat_minor": 0,
  "metadata": {
    "colab": {
      "name": "000_ANN_parte_001_XY_dados_out_01_2019.ipynb",
      "provenance": [],
      "collapsed_sections": [],
      "include_colab_link": true
    },
    "kernelspec": {
      "name": "python3",
      "display_name": "Python 3"
    }
  },
  "cells": [
    {
      "cell_type": "markdown",
      "metadata": {
        "id": "view-in-github",
        "colab_type": "text"
      },
      "source": [
        "<a href=\"https://colab.research.google.com/github/RaianaSeixas/ANN/blob/master/000_ANN_parte_001_XY_dados_out_01_2019.ipynb\" target=\"_parent\"><img src=\"https://colab.research.google.com/assets/colab-badge.svg\" alt=\"Open In Colab\"/></a>"
      ]
    },
    {
      "cell_type": "code",
      "metadata": {
        "id": "EA026iFrxh_I",
        "colab_type": "code",
        "colab": {}
      },
      "source": [
        "import pandas as pd"
      ],
      "execution_count": 0,
      "outputs": []
    },
    {
      "cell_type": "code",
      "metadata": {
        "id": "pFVbNPiTtZPk",
        "colab_type": "code",
        "colab": {}
      },
      "source": [
        "from zipfile import ZipFile"
      ],
      "execution_count": 0,
      "outputs": []
    },
    {
      "cell_type": "code",
      "metadata": {
        "id": "lhwPcvHmtiwF",
        "colab_type": "code",
        "outputId": "346129a2-55ae-4f24-e40d-7c0f4c81b71a",
        "colab": {
          "base_uri": "https://localhost:8080/",
          "height": 121
        }
      },
      "source": [
        "############################### Importar códigos\n",
        "\n",
        "!git clone https://github.com/RaianaSeixas/ANN.git #clonar do Github"
      ],
      "execution_count": 3,
      "outputs": [
        {
          "output_type": "stream",
          "text": [
            "Cloning into 'ANN'...\n",
            "remote: Enumerating objects: 33, done.\u001b[K\n",
            "remote: Counting objects:   3% (1/33)\u001b[K\rremote: Counting objects:   6% (2/33)\u001b[K\rremote: Counting objects:   9% (3/33)\u001b[K\rremote: Counting objects:  12% (4/33)\u001b[K\rremote: Counting objects:  15% (5/33)\u001b[K\rremote: Counting objects:  18% (6/33)\u001b[K\rremote: Counting objects:  21% (7/33)\u001b[K\rremote: Counting objects:  24% (8/33)\u001b[K\rremote: Counting objects:  27% (9/33)\u001b[K\rremote: Counting objects:  30% (10/33)\u001b[K\rremote: Counting objects:  33% (11/33)\u001b[K\rremote: Counting objects:  36% (12/33)\u001b[K\rremote: Counting objects:  39% (13/33)\u001b[K\rremote: Counting objects:  42% (14/33)\u001b[K\rremote: Counting objects:  45% (15/33)\u001b[K\rremote: Counting objects:  48% (16/33)\u001b[K\rremote: Counting objects:  51% (17/33)\u001b[K\rremote: Counting objects:  54% (18/33)\u001b[K\rremote: Counting objects:  57% (19/33)\u001b[K\rremote: Counting objects:  60% (20/33)\u001b[K\rremote: Counting objects:  63% (21/33)\u001b[K\rremote: Counting objects:  66% (22/33)\u001b[K\rremote: Counting objects:  69% (23/33)\u001b[K\rremote: Counting objects:  72% (24/33)\u001b[K\rremote: Counting objects:  75% (25/33)\u001b[K\rremote: Counting objects:  78% (26/33)\u001b[K\rremote: Counting objects:  81% (27/33)\u001b[K\rremote: Counting objects:  84% (28/33)\u001b[K\rremote: Counting objects:  87% (29/33)\u001b[K\rremote: Counting objects:  90% (30/33)\u001b[K\rremote: Counting objects:  93% (31/33)\u001b[K\rremote: Counting objects:  96% (32/33)\u001b[K\rremote: Counting objects: 100% (33/33)\u001b[K\rremote: Counting objects: 100% (33/33), done.\u001b[K\n",
            "remote: Compressing objects:   3% (1/31)\u001b[K\rremote: Compressing objects:   6% (2/31)\u001b[K\rremote: Compressing objects:   9% (3/31)\u001b[K\rremote: Compressing objects:  12% (4/31)\u001b[K\rremote: Compressing objects:  16% (5/31)\u001b[K\rremote: Compressing objects:  19% (6/31)\u001b[K\rremote: Compressing objects:  22% (7/31)\u001b[K\rremote: Compressing objects:  25% (8/31)\u001b[K\rremote: Compressing objects:  29% (9/31)\u001b[K\rremote: Compressing objects:  32% (10/31)\u001b[K\rremote: Compressing objects:  35% (11/31)\u001b[K\rremote: Compressing objects:  38% (12/31)\u001b[K\rremote: Compressing objects:  41% (13/31)\u001b[K\rremote: Compressing objects:  45% (14/31)\u001b[K\rremote: Compressing objects:  48% (15/31)\u001b[K\rremote: Compressing objects:  51% (16/31)\u001b[K\rremote: Compressing objects:  54% (17/31)\u001b[K\rremote: Compressing objects:  58% (18/31)\u001b[K\rremote: Compressing objects:  61% (19/31)\u001b[K\rremote: Compressing objects:  64% (20/31)\u001b[K\rremote: Compressing objects:  67% (21/31)\u001b[K\rremote: Compressing objects:  70% (22/31)\u001b[K\rremote: Compressing objects:  74% (23/31)\u001b[K\rremote: Compressing objects:  77% (24/31)\u001b[K\rremote: Compressing objects:  80% (25/31)\u001b[K\rremote: Compressing objects:  83% (26/31)\u001b[K\rremote: Compressing objects:  87% (27/31)\u001b[K\rremote: Compressing objects:  90% (28/31)\u001b[K\rremote: Compressing objects:  93% (29/31)\u001b[K\rremote: Compressing objects:  96% (30/31)\u001b[K\rremote: Compressing objects: 100% (31/31)\u001b[K\rremote: Compressing objects: 100% (31/31), done.\u001b[K\n",
            "Unpacking objects:   3% (1/33)   \rUnpacking objects:   6% (2/33)   \rUnpacking objects:   9% (3/33)   \rUnpacking objects:  12% (4/33)   \rUnpacking objects:  15% (5/33)   \rUnpacking objects:  18% (6/33)   \rUnpacking objects:  21% (7/33)   \rUnpacking objects:  24% (8/33)   \rUnpacking objects:  27% (9/33)   \rUnpacking objects:  30% (10/33)   \rUnpacking objects:  33% (11/33)   \rUnpacking objects:  36% (12/33)   \rUnpacking objects:  39% (13/33)   \rUnpacking objects:  42% (14/33)   \rUnpacking objects:  45% (15/33)   \rUnpacking objects:  48% (16/33)   \rremote: Total 33 (delta 8), reused 0 (delta 0), pack-reused 0\u001b[K\n",
            "Unpacking objects:  51% (17/33)   \rUnpacking objects:  54% (18/33)   \rUnpacking objects:  57% (19/33)   \rUnpacking objects:  60% (20/33)   \rUnpacking objects:  63% (21/33)   \rUnpacking objects:  66% (22/33)   \rUnpacking objects:  69% (23/33)   \rUnpacking objects:  72% (24/33)   \rUnpacking objects:  75% (25/33)   \rUnpacking objects:  78% (26/33)   \rUnpacking objects:  81% (27/33)   \rUnpacking objects:  84% (28/33)   \rUnpacking objects:  87% (29/33)   \rUnpacking objects:  90% (30/33)   \rUnpacking objects:  93% (31/33)   \rUnpacking objects:  96% (32/33)   \rUnpacking objects: 100% (33/33)   \rUnpacking objects: 100% (33/33), done.\n"
          ],
          "name": "stdout"
        }
      ]
    },
    {
      "cell_type": "code",
      "metadata": {
        "id": "nSGThSZJtoBl",
        "colab_type": "code",
        "outputId": "abb07315-01f2-40d8-ee4c-5f1ed31dcce8",
        "colab": {
          "base_uri": "https://localhost:8080/",
          "height": 104
        }
      },
      "source": [
        "%cd ANN\n",
        "!ls"
      ],
      "execution_count": 4,
      "outputs": [
        {
          "output_type": "stream",
          "text": [
            "/content/ANN\n",
            "000_ANN_Gera_Matriz_para_ser_usada_set_26_2019.ipynb  X_DAT_set_17_2019.csv\n",
            "000_Gerenciador_DE_var_F_CR_STAT_set_27_2019.ipynb    Y_DAT_B_set_17_2019.csv\n",
            "imput_ANN_D10_6F.zip\t\t\t\t      Y_DAT_set_17_2019.csv\n",
            "X_DAT_B_set_17_2019.csv\n"
          ],
          "name": "stdout"
        }
      ]
    },
    {
      "cell_type": "code",
      "metadata": {
        "id": "aLtH5IdKtSkT",
        "colab_type": "code",
        "colab": {}
      },
      "source": [
        "# specifying the zip file name \n",
        "file_name = 'imput_ANN_D10_6F.zip'\n",
        "# Create a ZipFile Object and load sample.zip in it\n",
        "with ZipFile(file_name, 'r') as zipObj:\n",
        "   # Get list of files names in zip\n",
        "   listOfiles = zipObj.namelist()\n",
        "   # Iterate over the list of file names in given list & print them\n",
        "   Nomes=[]\n",
        "   for elem in listOfiles:\n",
        "       #print(elem)\n",
        "       Nomes.append(elem)\n",
        "#print(Nomes)\n"
      ],
      "execution_count": 0,
      "outputs": []
    },
    {
      "cell_type": "code",
      "metadata": {
        "id": "C0mPfOHOuiAD",
        "colab_type": "code",
        "colab": {}
      },
      "source": [
        "# opening the zip file in READ mode \n",
        "with ZipFile(file_name, 'r') as zip: \n",
        "    # printing all the contents of the zip file \n",
        "    #zip.printdir() \n",
        "  \n",
        "    # extracting all the files \n",
        "    #print('Extracting all the files now...') \n",
        "    zip.extractall()\n"
      ],
      "execution_count": 0,
      "outputs": []
    },
    {
      "cell_type": "code",
      "metadata": {
        "id": "DXcShEtuQBkM",
        "colab_type": "code",
        "colab": {}
      },
      "source": [
        "'''#X_NOME=['DIVERSIDADE (DI)',  'DI RELATIVO','FRAC Its','VELOC FOBJ',\n",
        "       #'VELOC X','DELTA FOBJ','DELTA VX']\n",
        "X_NOME=['DI RELATIVO','FRAC Its','VELOC FOBJ',\n",
        "        'VELOC X']  #,'DELTA FOBJ','DELTA VX'\n",
        "Y_NOME=['NP','F','CR']'''\n",
        "\n",
        "NOMES_new=['DIVERSIDADE (DI)',  'DI RELATIVO','FRAC Its',\n",
        "           'VELOC FOBJ','VELOC X','NP','Fo','CRo','fmin','fmax',\n",
        "           'AD_fmin','AD_fmax','F','CR']"
      ],
      "execution_count": 0,
      "outputs": []
    },
    {
      "cell_type": "code",
      "metadata": {
        "id": "xGH8VMZ33V2I",
        "colab_type": "code",
        "outputId": "33356c94-5654-4141-bb87-fdf5ea4280e9",
        "colab": {
          "base_uri": "https://localhost:8080/",
          "height": 54
        }
      },
      "source": [
        "'''X = pd.DataFrame(columns=[X_NOME])\n",
        "Y = pd.DataFrame(columns=[Y_NOME])\n",
        "df = pd.read_csv(Nomes[0])\n",
        "X=df[X_NOME]\n",
        "Y=df[Y_NOME]\n",
        "#print(X)\n",
        "Xi = pd.DataFrame(columns=[X_NOME])\n",
        "df = pd.read_csv(Nomes[1])\n",
        "Xi=df[X_NOME]\n",
        "X=X.append(Xi,ignore_index=True)\n",
        "print(Y)'''"
      ],
      "execution_count": 8,
      "outputs": [
        {
          "output_type": "execute_result",
          "data": {
            "text/plain": [
              "'X = pd.DataFrame(columns=[X_NOME])\\nY = pd.DataFrame(columns=[Y_NOME])\\ndf = pd.read_csv(Nomes[0])\\nX=df[X_NOME]\\nY=df[Y_NOME]\\n#print(X)\\nXi = pd.DataFrame(columns=[X_NOME])\\ndf = pd.read_csv(Nomes[1])\\nXi=df[X_NOME]\\nX=X.append(Xi,ignore_index=True)\\nprint(Y)'"
            ]
          },
          "metadata": {
            "tags": []
          },
          "execution_count": 8
        }
      ]
    },
    {
      "cell_type": "code",
      "metadata": {
        "id": "HprdWoyYTy5F",
        "colab_type": "code",
        "colab": {
          "base_uri": "https://localhost:8080/",
          "height": 156
        },
        "outputId": "4bc2c9de-e2cc-4c8d-b5d9-5dda43dc7cff"
      },
      "source": [
        "Num=len(Nomes)\n",
        "'''X = pd.DataFrame(columns=[X_NOME])\n",
        "Y = pd.DataFrame(columns=[Y_NOME])'''\n",
        "#print(Num)\n",
        "XY=pd.DataFrame(columns=[NOMES_new])\n",
        "\n",
        "df = pd.read_csv(Nomes[0])\n",
        "#X=df[X_NOME]\n",
        "XY=df[NOMES_new]\n",
        "\n",
        "for i in range(1,Num):\n",
        "  df = pd.read_csv(Nomes[i])\n",
        "  #Xi = pd.DataFrame(columns=[X_NOME])\n",
        "  Xi = pd.DataFrame(columns=[NOMES_new])\n",
        "  #Xi=df[X_NOME]\n",
        "  Xi=df[NOMES_new]\n",
        "  #X=X.append(Xi,ignore_index=True)\n",
        "  XY=XY.append(Xi,ignore_index=True)\n",
        "print(XY.head())\n"
      ],
      "execution_count": 12,
      "outputs": [
        {
          "output_type": "stream",
          "text": [
            "   DIVERSIDADE (DI)  DI RELATIVO  FRAC Its  ...   AD_fmax         F        CR\n",
            "0         21.655535     1.221355       0.2  ...  0.374682  0.277668  0.260366\n",
            "1         21.514089     1.213378       0.3  ...  0.065835  0.173981  0.453169\n",
            "2         21.295827     1.201068       0.4  ...  0.010346  0.677145  0.947536\n",
            "3         21.188552     1.195018       0.5  ...  0.006927  0.059762  0.155327\n",
            "4         21.769821     1.227801       0.6  ...  0.001880  0.949367  0.933255\n",
            "\n",
            "[5 rows x 14 columns]\n"
          ],
          "name": "stdout"
        }
      ]
    },
    {
      "cell_type": "code",
      "metadata": {
        "id": "2pJ_Uio_cura",
        "colab_type": "code",
        "colab": {}
      },
      "source": [
        "'''Num=len(Nomes)\n",
        "Y = pd.DataFrame(columns=[Y_NOME])\n",
        "df = pd.read_csv(Nomes[0])\n",
        "Y=df[Y_NOME]\n",
        "\n",
        "for i in range(1,Num):\n",
        "  df = pd.read_csv(Nomes[i])\n",
        "  Yi = pd.DataFrame(columns=[Y_NOME])\n",
        "  Yi=df[Y_NOME]\n",
        "  Y=Y.append(Yi,ignore_index=True)\n",
        "#print(Y)'''"
      ],
      "execution_count": 0,
      "outputs": []
    },
    {
      "cell_type": "code",
      "metadata": {
        "id": "aNWRM7fPe5UO",
        "colab_type": "code",
        "colab": {}
      },
      "source": [
        ""
      ],
      "execution_count": 0,
      "outputs": []
    },
    {
      "cell_type": "code",
      "metadata": {
        "id": "xsedhvw6w-FX",
        "colab_type": "code",
        "outputId": "839ecf3c-af36-4fc1-d9a0-8d46f8809c67",
        "colab": {
          "base_uri": "https://localhost:8080/",
          "height": 124
        }
      },
      "source": [
        "#'''\n",
        "from google.colab import drive\n",
        "drive.mount('drive')\n",
        "#'''\n",
        "nome_XY='XY_D10_out_1_2019.csv'\n",
        "#nome_Y='Y_DAT_set_17_2019.csv'\n",
        "XY.to_csv(nome_XY)\n",
        "#Y.to_csv(nome_Y)\n",
        "\n",
        "!cp XY_D10_out_1_2019.csv drive/My\\ Drive/imput_ANN/\n",
        "#!cp 'X_DAT_set_17_2019.csv' drive/My\\ Drive/\n",
        "#!cp 'Y_DAT_set_17_2019.csv' drive/My\\ Drive/\n",
        "#!cp nome_Y drive/My\\ Drive/"
      ],
      "execution_count": 13,
      "outputs": [
        {
          "output_type": "stream",
          "text": [
            "Go to this URL in a browser: https://accounts.google.com/o/oauth2/auth?client_id=947318989803-6bn6qk8qdgf4n4g3pfee6491hc0brc4i.apps.googleusercontent.com&redirect_uri=urn%3Aietf%3Awg%3Aoauth%3A2.0%3Aoob&scope=email%20https%3A%2F%2Fwww.googleapis.com%2Fauth%2Fdocs.test%20https%3A%2F%2Fwww.googleapis.com%2Fauth%2Fdrive%20https%3A%2F%2Fwww.googleapis.com%2Fauth%2Fdrive.photos.readonly%20https%3A%2F%2Fwww.googleapis.com%2Fauth%2Fpeopleapi.readonly&response_type=code\n",
            "\n",
            "Enter your authorization code:\n",
            "··········\n",
            "Mounted at drive\n"
          ],
          "name": "stdout"
        }
      ]
    }
  ]
}