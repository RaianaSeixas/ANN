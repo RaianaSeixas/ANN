{
  "nbformat": 4,
  "nbformat_minor": 0,
  "metadata": {
    "colab": {
      "name": "000_ANN_parte_002_XY_Métricas_D10_OUT_4_2019.ipynb",
      "provenance": [],
      "collapsed_sections": [],
      "include_colab_link": true
    },
    "kernelspec": {
      "name": "python3",
      "display_name": "Python 3"
    }
  },
  "cells": [
    {
      "cell_type": "markdown",
      "metadata": {
        "id": "view-in-github",
        "colab_type": "text"
      },
      "source": [
        "<a href=\"https://colab.research.google.com/github/RaianaSeixas/ANN/blob/master/000_ANN_parte_002_XY_M%C3%A9tricas_D10_OUT_4_2019.ipynb\" target=\"_parent\"><img src=\"https://colab.research.google.com/assets/colab-badge.svg\" alt=\"Open In Colab\"/></a>"
      ]
    },
    {
      "cell_type": "code",
      "metadata": {
        "id": "IJMhyBoEZHIU",
        "colab_type": "code",
        "outputId": "199af93d-94d0-4dc2-9763-96a7970d6796",
        "colab": {
          "base_uri": "https://localhost:8080/",
          "height": 207
        }
      },
      "source": [
        "import numpy as np\n",
        "import pandas as pd\n",
        "import matplotlib.pyplot as plt\n",
        "\n",
        "\n",
        "# este comando clona o diretorio github ucfilho/ANN no colaboratory research\n",
        "!git clone https://github.com/RaianaSeixas/ANN #clonar do Github\n",
        "%cd ANN\n",
        "#!ls\n",
        "print(\"Hello world\"+\"\\n\"+\"I'm evolving!!!\"+\"\\n\")\n",
        "\n",
        "%matplotlib inline"
      ],
      "execution_count": 657,
      "outputs": [
        {
          "output_type": "stream",
          "text": [
            "Cloning into 'ANN'...\n",
            "remote: Enumerating objects: 42, done.\u001b[K\n",
            "remote: Counting objects:   2% (1/42)\u001b[K\rremote: Counting objects:   4% (2/42)\u001b[K\rremote: Counting objects:   7% (3/42)\u001b[K\rremote: Counting objects:   9% (4/42)\u001b[K\rremote: Counting objects:  11% (5/42)\u001b[K\rremote: Counting objects:  14% (6/42)\u001b[K\rremote: Counting objects:  16% (7/42)\u001b[K\rremote: Counting objects:  19% (8/42)\u001b[K\rremote: Counting objects:  21% (9/42)\u001b[K\rremote: Counting objects:  23% (10/42)\u001b[K\rremote: Counting objects:  26% (11/42)\u001b[K\rremote: Counting objects:  28% (12/42)\u001b[K\rremote: Counting objects:  30% (13/42)\u001b[K\rremote: Counting objects:  33% (14/42)\u001b[K\rremote: Counting objects:  35% (15/42)\u001b[K\rremote: Counting objects:  38% (16/42)\u001b[K\rremote: Counting objects:  40% (17/42)\u001b[K\rremote: Counting objects:  42% (18/42)\u001b[K\rremote: Counting objects:  45% (19/42)\u001b[K\rremote: Counting objects:  47% (20/42)\u001b[K\rremote: Counting objects:  50% (21/42)\u001b[K\rremote: Counting objects:  52% (22/42)\u001b[K\rremote: Counting objects:  54% (23/42)\u001b[K\rremote: Counting objects:  57% (24/42)\u001b[K\rremote: Counting objects:  59% (25/42)\u001b[K\rremote: Counting objects:  61% (26/42)\u001b[K\rremote: Counting objects:  64% (27/42)\u001b[K\rremote: Counting objects:  66% (28/42)\u001b[K\rremote: Counting objects:  69% (29/42)\u001b[K\rremote: Counting objects:  71% (30/42)\u001b[K\rremote: Counting objects:  73% (31/42)\u001b[K\rremote: Counting objects:  76% (32/42)\u001b[K\rremote: Counting objects:  78% (33/42)\u001b[K\rremote: Counting objects:  80% (34/42)\u001b[K\rremote: Counting objects:  83% (35/42)\u001b[K\rremote: Counting objects:  85% (36/42)\u001b[K\rremote: Counting objects:  88% (37/42)\u001b[K\rremote: Counting objects:  90% (38/42)\u001b[K\rremote: Counting objects:  92% (39/42)\u001b[K\rremote: Counting objects:  95% (40/42)\u001b[K\rremote: Counting objects:  97% (41/42)\u001b[K\rremote: Counting objects: 100% (42/42)\u001b[K\rremote: Counting objects: 100% (42/42), done.\u001b[K\n",
            "remote: Compressing objects:   2% (1/40)\u001b[K\rremote: Compressing objects:   5% (2/40)\u001b[K\rremote: Compressing objects:   7% (3/40)\u001b[K\rremote: Compressing objects:  10% (4/40)\u001b[K\rremote: Compressing objects:  12% (5/40)\u001b[K\rremote: Compressing objects:  15% (6/40)\u001b[K\rremote: Compressing objects:  17% (7/40)\u001b[K\rremote: Compressing objects:  20% (8/40)\u001b[K\rremote: Compressing objects:  22% (9/40)\u001b[K\rremote: Compressing objects:  25% (10/40)\u001b[K\rremote: Compressing objects:  27% (11/40)\u001b[K\rremote: Compressing objects:  30% (12/40)\u001b[K\rremote: Compressing objects:  32% (13/40)\u001b[K\rremote: Compressing objects:  35% (14/40)\u001b[K\rremote: Compressing objects:  37% (15/40)\u001b[K\rremote: Compressing objects:  40% (16/40)\u001b[K\rremote: Compressing objects:  42% (17/40)\u001b[K\rremote: Compressing objects:  45% (18/40)\u001b[K\rremote: Compressing objects:  47% (19/40)\u001b[K\rremote: Compressing objects:  50% (20/40)\u001b[K\rremote: Compressing objects:  52% (21/40)\u001b[K\rremote: Compressing objects:  55% (22/40)\u001b[K\rremote: Compressing objects:  57% (23/40)\u001b[K\rremote: Compressing objects:  60% (24/40)\u001b[K\rremote: Compressing objects:  62% (25/40)\u001b[K\rremote: Compressing objects:  65% (26/40)\u001b[K\rremote: Compressing objects:  67% (27/40)\u001b[K\rremote: Compressing objects:  70% (28/40)\u001b[K\rremote: Compressing objects:  72% (29/40)\u001b[K\rremote: Compressing objects:  75% (30/40)\u001b[K\rremote: Compressing objects:  77% (31/40)\u001b[K\rremote: Compressing objects:  80% (32/40)\u001b[K\rremote: Compressing objects:  82% (33/40)\u001b[K\rremote: Compressing objects:  85% (34/40)\u001b[K\rremote: Compressing objects:  87% (35/40)\u001b[K\rremote: Compressing objects:  90% (36/40)\u001b[K\rremote: Compressing objects:  92% (37/40)\u001b[K\rremote: Compressing objects:  95% (38/40)\u001b[K\rremote: Compressing objects:  97% (39/40)\u001b[K\rremote: Compressing objects: 100% (40/40)\u001b[K\rremote: Compressing objects: 100% (40/40), done.\u001b[K\n",
            "Unpacking objects:   2% (1/42)   \rUnpacking objects:   4% (2/42)   \rUnpacking objects:   7% (3/42)   \rUnpacking objects:   9% (4/42)   \rUnpacking objects:  11% (5/42)   \rUnpacking objects:  14% (6/42)   \rUnpacking objects:  16% (7/42)   \rUnpacking objects:  19% (8/42)   \rUnpacking objects:  21% (9/42)   \rUnpacking objects:  23% (10/42)   \rUnpacking objects:  26% (11/42)   \rUnpacking objects:  28% (12/42)   \rUnpacking objects:  30% (13/42)   \rUnpacking objects:  33% (14/42)   \rUnpacking objects:  35% (15/42)   \rUnpacking objects:  38% (16/42)   \rUnpacking objects:  40% (17/42)   \rUnpacking objects:  42% (18/42)   \rUnpacking objects:  45% (19/42)   \rremote: Total 42 (delta 12), reused 0 (delta 0), pack-reused 0\u001b[K\n",
            "Unpacking objects:  47% (20/42)   \rUnpacking objects:  50% (21/42)   \rUnpacking objects:  52% (22/42)   \rUnpacking objects:  54% (23/42)   \rUnpacking objects:  57% (24/42)   \rUnpacking objects:  59% (25/42)   \rUnpacking objects:  61% (26/42)   \rUnpacking objects:  64% (27/42)   \rUnpacking objects:  66% (28/42)   \rUnpacking objects:  69% (29/42)   \rUnpacking objects:  71% (30/42)   \rUnpacking objects:  73% (31/42)   \rUnpacking objects:  76% (32/42)   \rUnpacking objects:  78% (33/42)   \rUnpacking objects:  80% (34/42)   \rUnpacking objects:  83% (35/42)   \rUnpacking objects:  85% (36/42)   \rUnpacking objects:  88% (37/42)   \rUnpacking objects:  90% (38/42)   \rUnpacking objects:  92% (39/42)   \rUnpacking objects:  95% (40/42)   \rUnpacking objects:  97% (41/42)   \rUnpacking objects: 100% (42/42)   \rUnpacking objects: 100% (42/42), done.\n",
            "/content/ANN/ANN/ANN/ANN/ANN/ANN/ANN/ANN/ANN/ANN/ANN/ANN/ANN/ANN/ANN/ANN/ANN/ANN/ANN/ANN/ANN/ANN/ANN/ANN/ANN/ANN/ANN/ANN/ANN\n",
            "Hello world\n",
            "I'm evolving!!!\n",
            "\n"
          ],
          "name": "stdout"
        }
      ]
    },
    {
      "cell_type": "code",
      "metadata": {
        "id": "x09IGM7OYxpw",
        "colab_type": "code",
        "outputId": "dcabce5a-6f9f-41bf-c6bd-5b59cb0b3477",
        "colab": {
          "base_uri": "https://localhost:8080/",
          "height": 102
        }
      },
      "source": [
        "!ls"
      ],
      "execution_count": 658,
      "outputs": [
        {
          "output_type": "stream",
          "text": [
            "000_ANN_Gera_Matriz_para_ser_usada_set_26_2019.ipynb  X_DAT_B_set_17_2019.csv\n",
            "000_ANN_parte_001_XY_dados_out_01_2019.ipynb\t      X_DAT_set_17_2019.csv\n",
            "000_ANN_parte_002_B_D10_OUT_1_2019.ipynb\t      XY_D10_out_1_2019.csv\n",
            "000_Gerenciador_DE_var_F_CR_STAT_set_27_2019.ipynb    Y_DAT_B_set_17_2019.csv\n",
            "imput_ANN_D10_6F.zip\t\t\t\t      Y_DAT_set_17_2019.csv\n"
          ],
          "name": "stdout"
        }
      ]
    },
    {
      "cell_type": "code",
      "metadata": {
        "id": "xPh9-Qc81nMS",
        "colab_type": "code",
        "colab": {}
      },
      "source": [
        "# sigmoid function\n",
        "def sigmoid(x,deriv=False):\n",
        "    if(deriv==True):\n",
        "        return x*(1-x)\n",
        "    return 1/(1+np.exp(-x))\n",
        "\n",
        "def tasig(x,deriv=False):\n",
        "    if(deriv==True):\n",
        "        return 1-x*x\n",
        "    return 2/(1+np.exp(-2*x))-1\n",
        "\n",
        "# purelin function\n",
        "def purelin(x,deriv=False):\n",
        "    if(deriv==True):\n",
        "        return 1\n",
        "    return x"
      ],
      "execution_count": 0,
      "outputs": []
    },
    {
      "cell_type": "code",
      "metadata": {
        "id": "RepD-3pn1E-1",
        "colab_type": "code",
        "colab": {}
      },
      "source": [
        "# funcao normatiza dados\n",
        "def Normatiza(x):\n",
        "    strings=list(x)\n",
        "    for i in strings:\n",
        "        max_x=x[i].max()\n",
        "        min_x=x[i].min()\n",
        "        a=(max_x+min_x)/2\n",
        "        b=(max_x-min_x)/2\n",
        "        x[i]=(x[i]-a)/b\n",
        "    return x"
      ],
      "execution_count": 0,
      "outputs": []
    },
    {
      "cell_type": "code",
      "metadata": {
        "id": "aMUypVwa1RWF",
        "colab_type": "code",
        "colab": {}
      },
      "source": [
        "# funcao retorna os dados a forma original\n",
        "def Original(x,x_old):\n",
        "    strings=list(x)\n",
        "    for i in strings:\n",
        "        max_x=x_old[i].max()\n",
        "        min_x=x_old[i].min()\n",
        "        a=(max_x+min_x)/2\n",
        "        b=(max_x-min_x)/2\n",
        "        x[i]=x[i]*b+a\n",
        "    return x"
      ],
      "execution_count": 0,
      "outputs": []
    },
    {
      "cell_type": "code",
      "metadata": {
        "id": "-Lo9qeQ46AmS",
        "colab_type": "code",
        "colab": {}
      },
      "source": [
        "def QUALIDADE(yobs,ycal):\n",
        "  #yobs=yobs.to_numpy()\n",
        "  yobs=np.array(yobs)\n",
        "  #ycal=ycal.to_numpy()\n",
        "  ycal=np.array(ycal)\n",
        "  N=len(yobs)\n",
        "  Soma=0\n",
        "  for i in range(N):\n",
        "    Soma=Soma+(yobs[i]-ycal[i])**2\n",
        "  Soma=(Soma/N)**0.5\n",
        "  return Soma"
      ],
      "execution_count": 0,
      "outputs": []
    },
    {
      "cell_type": "code",
      "metadata": {
        "id": "2fZbG-ryMioG",
        "colab_type": "code",
        "colab": {}
      },
      "source": [
        "def R2(yobs,ycal):\n",
        "  yobs=np.array(yobs)\n",
        "  ycal=np.array(ycal)\n",
        "  N=len(yobs)\n",
        "  SQresiduos=0\n",
        "  SQexp=0\n",
        "  ycal_medio=y_calc.mean().item()\n",
        "  for i in range(N):\n",
        "    SQresiduos=SQresiduos+(yobs[i]-ycal[i])**2\n",
        "    SQexp=SQexp+(ycal[i]-ycal_medio)**2\n",
        "  coef=1-(SQresiduos/(SQresiduos+SQexp))\n",
        "  return coef\n"
      ],
      "execution_count": 0,
      "outputs": []
    },
    {
      "cell_type": "code",
      "metadata": {
        "id": "68JOHC6Ozv6d",
        "colab_type": "code",
        "outputId": "fa81d4a2-9998-4d1b-ec04-dea12c54f809",
        "colab": {
          "base_uri": "https://localhost:8080/",
          "height": 357
        }
      },
      "source": [
        "# leitura dos dados\n",
        "DAT=pd.read_csv(\"XY_D10_out_1_2019.csv\")\n",
        "# separa as colunas de interesse\n",
        "Index=[1,2,3,4,5,6,7,8,9,10,11,12,13,14]\n",
        "Dat_Select=[]\n",
        "Dat_Select=DAT.iloc[:,Index].copy()\n",
        "\n",
        "pd.set_option('display.max_columns', 30)\n",
        "pd.set_option('display.max_rows', 30)\n",
        "#print(Dat_Select)\n",
        "print(Dat_Select.head())"
      ],
      "execution_count": 664,
      "outputs": [
        {
          "output_type": "stream",
          "text": [
            "   DIVERSIDADE (DI)  DI RELATIVO  FRAC Its  VELOC FOBJ  VELOC X     NP  \\\n",
            "0         21.655535     1.221355       0.2         0.0      0.0  100.0   \n",
            "1         21.514089     1.213378       0.3         0.0      0.0  100.0   \n",
            "2         21.295827     1.201068       0.4         2.0      2.0  100.0   \n",
            "3         21.188552     1.195018       0.5         0.0      0.0  100.0   \n",
            "4         21.769821     1.227801       0.6         1.0      2.0  100.0   \n",
            "\n",
            "         Fo       CRo      fmin         fmax   AD_fmin   AD_fmax         F  \\\n",
            "0  0.972856  0.760538  0.057549  1805.235510  1.000000  0.374682  0.277668   \n",
            "1  0.277668  0.260366  0.057549   317.197512  1.000000  0.065835  0.173981   \n",
            "2  0.173981  0.453169  0.022278    49.847938  0.387115  0.010346  0.677145   \n",
            "3  0.677145  0.947536  0.022278    33.373213  0.387115  0.006927  0.059762   \n",
            "4  0.059762  0.155327  0.014697     9.059640  0.255377  0.001880  0.949367   \n",
            "\n",
            "         CR  \n",
            "0  0.260366  \n",
            "1  0.453169  \n",
            "2  0.947536  \n",
            "3  0.155327  \n",
            "4  0.933255  \n"
          ],
          "name": "stdout"
        }
      ]
    },
    {
      "cell_type": "code",
      "metadata": {
        "id": "_vpQ5HTM06TE",
        "colab_type": "code",
        "colab": {}
      },
      "source": [
        "DAT_OLD=[]\n",
        "DAT_OLD=Dat_Select.copy()\n",
        "DAT=Normatiza(Dat_Select)"
      ],
      "execution_count": 0,
      "outputs": []
    },
    {
      "cell_type": "code",
      "metadata": {
        "id": "A4LF09Cq0hJu",
        "colab_type": "code",
        "outputId": "37a6ea1c-ac70-4ec8-b9d1-a0fe185fa473",
        "colab": {
          "base_uri": "https://localhost:8080/",
          "height": 238
        }
      },
      "source": [
        "# obtem as variaveis independentes (treino e teste)\n",
        "# separa os dados em treino e teste\n",
        "train=DAT.sample(frac=0.8,random_state=None) \n",
        "test=DAT.drop(train.index)\n",
        "'''\n",
        "x_train=train.iloc[:,[1,2,3,4,6,7,10,11]]\n",
        "x_test=test.iloc[:,[1,2,3,4,6,7,10,11]]\n",
        "X_OLD=DAT_OLD.iloc[:,[1,2,3,4,6,7,10,11]]\n",
        "'''\n",
        "#Add fmax e fmin\n",
        "x_train=train.iloc[:,[1,2,3,4,6,7,8,9,10,11]]\n",
        "x_test=test.iloc[:,[1,2,3,4,6,7,8,9,10,11]]\n",
        "X_OLD=DAT_OLD.iloc[:,[1,2,3,4,6,7,8,9,10,11]]\n",
        "print(x_train.head())"
      ],
      "execution_count": 666,
      "outputs": [
        {
          "output_type": "stream",
          "text": [
            "    DI RELATIVO  FRAC Its  VELOC FOBJ  VELOC X        Fo       CRo      fmin  \\\n",
            "49    -0.695994      0.00         0.0      1.0 -0.430203 -0.162475 -0.990942   \n",
            "3      0.651328     -0.25        -1.0     -1.0  0.362938  0.949562 -0.999974   \n",
            "2      0.659696     -0.50         1.0      1.0 -0.662875 -0.068933 -0.999974   \n",
            "42    -0.922858      0.50         1.0      1.0 -0.084589 -0.554020 -1.000000   \n",
            "33    -0.393398      0.50         0.0      1.0  0.425882 -0.632270 -0.975749   \n",
            "\n",
            "        fmax   AD_fmin   AD_fmax  \n",
            "49 -0.988972 -0.197878  0.901072  \n",
            "3  -0.981526 -0.225770 -0.986133  \n",
            "2  -0.972406 -0.225770 -0.979288  \n",
            "42 -1.000000 -1.000000 -0.999999  \n",
            "33 -0.960152 -0.247401 -0.139004  \n"
          ],
          "name": "stdout"
        }
      ]
    },
    {
      "cell_type": "code",
      "metadata": {
        "id": "ZSuUAFrL3E1C",
        "colab_type": "code",
        "outputId": "11695433-837e-4158-ae40-65cd9ccaabab",
        "colab": {
          "base_uri": "https://localhost:8080/",
          "height": 119
        }
      },
      "source": [
        "# obtem as variaveis dependentes (treino e teste)\n",
        "#Index=[2,3,4,5]\n",
        "Index=[12] #F\n",
        "#Index=[13] #CR\n",
        "y_train=train.iloc[:,Index]\n",
        "y_test=test.iloc[:,Index]\n",
        "Y_OLD=DAT_OLD.iloc[:,Index]\n",
        "print(y_train.head())"
      ],
      "execution_count": 667,
      "outputs": [
        {
          "output_type": "stream",
          "text": [
            "           F\n",
            "49  0.495032\n",
            "3  -0.895736\n",
            "2   0.362938\n",
            "42 -0.729215\n",
            "33  0.325664\n"
          ],
          "name": "stdout"
        }
      ]
    },
    {
      "cell_type": "code",
      "metadata": {
        "id": "hqYR1qujdIFX",
        "colab_type": "code",
        "colab": {}
      },
      "source": [
        "X_NOME=[  'DI RELATIVO','FRAC Its',\n",
        "           'VELOC FOBJ','VELOC X','Fo','CRo',\n",
        "           'AD_fmin','AD_fmax']\n",
        "Y_NOME=['F']   \n",
        "#Y_NOME=['CR']   "
      ],
      "execution_count": 0,
      "outputs": []
    },
    {
      "cell_type": "code",
      "metadata": {
        "id": "bUuQEko_dpF2",
        "colab_type": "code",
        "colab": {}
      },
      "source": [
        "# input dataset\n",
        "Neuron_input=len(X_NOME)\n",
        "Neuron_hidden=9\n",
        "Neuron_output=1\n",
        "Learning_rate=0.01\n",
        "omega=0.9\n",
        "Epoch=50000"
      ],
      "execution_count": 0,
      "outputs": []
    },
    {
      "cell_type": "code",
      "metadata": {
        "id": "5X0BYxxIdwGp",
        "colab_type": "code",
        "colab": {}
      },
      "source": [
        "\n",
        "#y_old=DAT['TC1']\n",
        "#DAT=normatize(DAT)\n",
        "Y_train=y_train\n",
        "X_train=x_train\n",
        "#print(X.head())"
      ],
      "execution_count": 0,
      "outputs": []
    },
    {
      "cell_type": "code",
      "metadata": {
        "id": "ww1KvVqReAhK",
        "colab_type": "code",
        "outputId": "92421dfc-cfa4-4510-8797-359f3d2c1fb9",
        "colab": {
          "base_uri": "https://localhost:8080/",
          "height": 102
        }
      },
      "source": [
        "X_train=X_train.loc[X_train['FRAC Its']==X_train['FRAC Its'],X_NOME].values\n",
        "y=Y_train.loc[Y_train['F']==Y_train['F'],['F']].values\n",
        "\n",
        "\n",
        "# randomly initialize our weights with mean 0\n",
        "syn0 = 2*np.random.random((Neuron_input,Neuron_hidden)) - 1\n",
        "syn1 = 2*np.random.random((Neuron_hidden,Neuron_output)) - 1\n",
        "\n",
        "\n",
        "for j in range(Epoch):\n",
        "\n",
        "    # Feed forward through layers 0, 1, and 2\n",
        "    l0 = X_train\n",
        "    #l1 = sigmoid(np.dot(l0,syn0))\n",
        "    l1 = tasig(np.dot(l0,syn0))\n",
        "    l2 = purelin(np.dot(l1,syn1))\n",
        "\n",
        "    # how much did we miss the target value?\n",
        "    l2_error = y - l2\n",
        "\n",
        "    if (j% 10000) == 0:\n",
        "        print(\"Epoch %d\"%(j) +\" error:\" + str(np.mean(np.abs(l2_error))))\n",
        "\n",
        "    # in what direction is the target value?\n",
        "    # were we really sure? if so, don't change too much.\n",
        "    l2_delta = l2_error*purelin(l2,deriv=True)\n",
        "    l1_error = l2_delta.dot(syn1.T)\n",
        "    #l1_delta = l1_error * sigmoid(l1,deriv=True)\n",
        "    l1_delta = l1_error * tasig(l1,deriv=True)    \n",
        "\n",
        "    syn1 += l1.T.dot(l2_delta)*Learning_rate\n",
        "    syn0 += l0.T.dot(l1_delta)*Learning_rate\n",
        "\n"
      ],
      "execution_count": 671,
      "outputs": [
        {
          "output_type": "stream",
          "text": [
            "Epoch 0 error:0.8283061304369039\n",
            "Epoch 10000 error:0.06054630685133073\n",
            "Epoch 20000 error:0.04510928926819968\n",
            "Epoch 30000 error:0.034835868449416406\n",
            "Epoch 40000 error:0.026927289931216767\n"
          ],
          "name": "stdout"
        }
      ]
    },
    {
      "cell_type": "code",
      "metadata": {
        "id": "08NCAStHNAVT",
        "colab_type": "code",
        "outputId": "8caa3237-3aa4-4d28-80d3-48292d36d474",
        "colab": {
          "base_uri": "https://localhost:8080/",
          "height": 385
        }
      },
      "source": [
        "#'''\n",
        "#DAT=pd.read_csv(Arquivo,sep='\\t')\n",
        "y_obs=y_train\n",
        "y_calc=np.reshape(l2,len(l2))\n",
        "y_calc=pd.DataFrame({'y_calc':y_calc})\n",
        "#y_old=pd.DataFrame({'y_old':y_old})\n",
        "Y_OLD=pd.DataFrame(Y_OLD)\n",
        "Y_OLD.columns = [\"y_calc\"]\n",
        "y_calc=Original(y_calc,Y_OLD)\n",
        "\n",
        "y_obs.columns = [\"y_calc\"]\n",
        "y_obs=Original(y_obs,Y_OLD)\n",
        "y_obs_train=np.copy(y_obs)\n",
        "y_calc_train=np.copy(y_calc)\n",
        "\n",
        "plt.scatter(y_obs,y_calc)\n",
        "plt.xlabel(\"True variable\")\n",
        "plt.ylabel(\"Estimated variable\")\n",
        "#plt.xlim((0,1))\n",
        "#plt.ylim((0,1))\n",
        "plt.show()\n",
        "#'''"
      ],
      "execution_count": 672,
      "outputs": [
        {
          "output_type": "stream",
          "text": [
            "/usr/local/lib/python3.6/dist-packages/ipykernel_launcher.py:8: SettingWithCopyWarning: \n",
            "A value is trying to be set on a copy of a slice from a DataFrame.\n",
            "Try using .loc[row_indexer,col_indexer] = value instead\n",
            "\n",
            "See the caveats in the documentation: http://pandas.pydata.org/pandas-docs/stable/indexing.html#indexing-view-versus-copy\n",
            "  \n"
          ],
          "name": "stderr"
        },
        {
          "output_type": "display_data",
          "data": {
            "image/png": "[encoded data removed]",
            "text/plain": [
              "<Figure size 432x288 with 1 Axes>"
            ]
          },
          "metadata": {
            "tags": []
          }
        }
      ]
    },
    {
      "cell_type": "markdown",
      "metadata": {
        "id": "sY_k-aYJvXVR",
        "colab_type": "text"
      },
      "source": [
        ""
      ]
    },
    {
      "cell_type": "code",
      "metadata": {
        "id": "iBeG0xf6zX4C",
        "colab_type": "code",
        "colab": {}
      },
      "source": [
        "x_test=x_test.loc[x_test['FRAC Its']==x_test['FRAC Its'],X_NOME].values\n",
        "#y=Y_test.loc[Y_test['Resistence']==Y_test['Resistence'],['Resistence']].values"
      ],
      "execution_count": 0,
      "outputs": []
    },
    {
      "cell_type": "code",
      "metadata": {
        "id": "XtiFF_neaqhd",
        "colab_type": "code",
        "colab": {}
      },
      "source": [
        "\n",
        "#print(X_test)\n",
        "l0 = x_test\n",
        "#l1 = sigmoid(np.dot(l0,syn0))\n",
        "l1 = tasig(np.dot(l0,syn0))\n",
        "l2 = purelin(np.dot(l1,syn1))\n",
        "y_calc_test=np.reshape(l2,len(l2))\n",
        "y_calc_test=pd.DataFrame({'y_calc':y_calc_test})\n",
        "y_calc_test=Original(y_calc_test,Y_OLD)"
      ],
      "execution_count": 0,
      "outputs": []
    },
    {
      "cell_type": "code",
      "metadata": {
        "id": "_ZglbRD3l4Lm",
        "colab_type": "code",
        "outputId": "d5604448-068c-4fab-8dad-7dd22dce00dd",
        "colab": {
          "base_uri": "https://localhost:8080/",
          "height": 119
        }
      },
      "source": [
        "y_obs=y_test\n",
        "y_obs.columns = [\"y_calc\"]\n",
        "y_obs=Original(y_obs,Y_OLD)"
      ],
      "execution_count": 675,
      "outputs": [
        {
          "output_type": "stream",
          "text": [
            "/usr/local/lib/python3.6/dist-packages/ipykernel_launcher.py:8: SettingWithCopyWarning: \n",
            "A value is trying to be set on a copy of a slice from a DataFrame.\n",
            "Try using .loc[row_indexer,col_indexer] = value instead\n",
            "\n",
            "See the caveats in the documentation: http://pandas.pydata.org/pandas-docs/stable/indexing.html#indexing-view-versus-copy\n",
            "  \n"
          ],
          "name": "stderr"
        }
      ]
    },
    {
      "cell_type": "code",
      "metadata": {
        "id": "B7NzPiyYBL-D",
        "colab_type": "code",
        "colab": {}
      },
      "source": [
        "y_test_max=y_calc_test.max()\n",
        "y_test_min=y_calc_test.min()"
      ],
      "execution_count": 0,
      "outputs": []
    },
    {
      "cell_type": "code",
      "metadata": {
        "id": "8MlsBAXMkV3c",
        "colab_type": "code",
        "outputId": "596d6aa2-fa83-42d6-e438-ecf4469fa06d",
        "colab": {
          "base_uri": "https://localhost:8080/",
          "height": 283
        }
      },
      "source": [
        "plt.scatter(y_obs,y_calc_test,color='r')\n",
        "plt.xlabel(\"True variable\")\n",
        "plt.ylabel(\"Estimated variable\")\n",
        "\n",
        "min=y_test_min.item()-0.1\n",
        "if y_test_max.item()>1:\n",
        "  max=y_test_max.item()+0.1\n",
        "else:\n",
        "  max=1.1\n",
        "\n",
        "plt.xlim((min,max))\n",
        "plt.ylim((min,max))\n",
        "plt.show()"
      ],
      "execution_count": 677,
      "outputs": [
        {
          "output_type": "display_data",
          "data": {
            "image/png": "[encoded data removed]",
            "text/plain": [
              "<Figure size 432x288 with 1 Axes>"
            ]
          },
          "metadata": {
            "tags": []
          }
        }
      ]
    },
    {
      "cell_type": "code",
      "metadata": {
        "id": "oFMnt6iZFPHx",
        "colab_type": "code",
        "outputId": "9702b103-14cd-4068-c804-86c2498a445c",
        "colab": {
          "base_uri": "https://localhost:8080/",
          "height": 283
        }
      },
      "source": [
        "plt.scatter(y_obs_train,y_calc_train)\n",
        "plt.scatter(y_obs,y_calc_test,color='r')\n",
        "\n",
        "#plt.ylabel(\"Estimated variable\")\n",
        "#plt.xlabel(\"True variable\")\n",
        "plt.ylabel(\"Variável Calculada\")\n",
        "plt.xlabel(\"Variável Observada\")\n",
        "\n",
        "plt.xlim((min,max))\n",
        "plt.ylim((min,max))\n",
        "plt.show()"
      ],
      "execution_count": 678,
      "outputs": [
        {
          "output_type": "display_data",
          "data": {
            "image/png": "[encoded data removed]",
            "text/plain": [
              "<Figure size 432x288 with 1 Axes>"
            ]
          },
          "metadata": {
            "tags": []
          }
        }
      ]
    },
    {
      "cell_type": "code",
      "metadata": {
        "id": "WsERfLMx-3Tc",
        "colab_type": "code",
        "outputId": "40134a3b-5809-4b2c-e5b8-7a23c066c714",
        "colab": {
          "base_uri": "https://localhost:8080/",
          "height": 51
        }
      },
      "source": [
        "Erro_treino=QUALIDADE(y_obs_train,y_calc_train)\n",
        "R2_treino=R2(y_obs_train,y_calc_train)\n",
        "print(\"RMSE treino=\",Erro_treino, 'R2_treino',R2_treino)\n",
        "Erro_teste=QUALIDADE(y_obs,y_calc_test)\n",
        "R2_teste=R2(y_obs,y_calc_test)\n",
        "print(\"RMSE teste=\",Erro_teste,'R2_teste',R2_teste)"
      ],
      "execution_count": 679,
      "outputs": [
        {
          "output_type": "stream",
          "text": [
            "RMSE treino= [0.00978821] R2_treino [0.99869896]\n",
            "RMSE teste= [0.39884055] R2_teste [0.51878642]\n"
          ],
          "name": "stdout"
        }
      ]
    },
    {
      "cell_type": "code",
      "metadata": {
        "id": "hbNPLVOWgTlt",
        "colab_type": "code",
        "outputId": "2dc3a07d-9036-4935-dd9e-f0e6ba9c4128",
        "colab": {
          "base_uri": "https://localhost:8080/",
          "height": 51
        }
      },
      "source": [
        "print('y_test_max',y_test_max.item())\n",
        "print('y_test_min',y_test_min.item())"
      ],
      "execution_count": 681,
      "outputs": [
        {
          "output_type": "stream",
          "text": [
            "y_test_max 0.7444532339176136\n",
            "y_test_min -0.6095238575970255\n"
          ],
          "name": "stdout"
        }
      ]
    }
  ]
}